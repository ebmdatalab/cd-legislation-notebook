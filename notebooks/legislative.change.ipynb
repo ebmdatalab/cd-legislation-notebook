{
 "cells": [
  {
   "cell_type": "markdown",
   "metadata": {},
   "source": [
    "During the last decade, controlled drugs legislation has been amended on various occasions due to concerns. In tis notebook we will set out to examine the impact of reclassification on Prescribing Patterns\n",
    "\n",
    "- [Gabapentinoids](#gaba)\n",
    "- [Tramadol](#tramadol)\n",
    "- [Zopiclone](#zdrugs) ->NOT STARTED YET\n",
    "- [Overall Summary](#summ) -> NOT STARTED YET\n",
    "\n"
   ]
  },
  {
   "cell_type": "code",
   "execution_count": 10,
   "metadata": {},
   "outputs": [],
   "source": [
    "#import libraries required for analysis\n",
    "import pandas as pd\n",
    "import matplotlib\n",
    "import matplotlib.pyplot as plt\n",
    "from ebmdatalab import bq\n",
    "import os"
   ]
  },
  {
   "cell_type": "markdown",
   "metadata": {},
   "source": [
    "# Gabapentinoids <a id='gaba'></a>\n",
    "In April 2019 Gabapentinoids (i.e. pregabaln and gabapentin) were reclassified under the misuse of drugs act. This followed the [Advisory Committee of Misuse of Drugs recommending reclassification due to their concerns](https://www.gov.uk/government/news/pregabalin-and-gabapentin-to-be-controlled-as-class-c-drugs) over rising prescribing, misuse and deaths associated with both medicines. The reclassification we intended to bring in stronger controls and reduce the chances of medicines being used inapprorpiately.\n",
    "\n",
    "On OpenPrescribing we have various measures on gabapentinoid prescribing including including a measure of total use by using [Daily Defined Doses (DDD) to include both medicines in a single measure](https://openprescribing.net/measure/gabapentinoidsddd/).\n"
   ]
  },
  {
   "cell_type": "code",
   "execution_count": 11,
   "metadata": {},
   "outputs": [
    {
     "data": {
      "text/html": [
       "<div>\n",
       "<style scoped>\n",
       "    .dataframe tbody tr th:only-of-type {\n",
       "        vertical-align: middle;\n",
       "    }\n",
       "\n",
       "    .dataframe tbody tr th {\n",
       "        vertical-align: top;\n",
       "    }\n",
       "\n",
       "    .dataframe thead th {\n",
       "        text-align: right;\n",
       "    }\n",
       "</style>\n",
       "<table border=\"1\" class=\"dataframe\">\n",
       "  <thead>\n",
       "    <tr style=\"text-align: right;\">\n",
       "      <th></th>\n",
       "      <th>month</th>\n",
       "      <th>pct</th>\n",
       "      <th>total_gaba</th>\n",
       "    </tr>\n",
       "  </thead>\n",
       "  <tbody>\n",
       "    <tr>\n",
       "      <th>0</th>\n",
       "      <td>2020-04-01</td>\n",
       "      <td>07P</td>\n",
       "      <td>59784.327778</td>\n",
       "    </tr>\n",
       "    <tr>\n",
       "      <th>1</th>\n",
       "      <td>2020-03-01</td>\n",
       "      <td>07P</td>\n",
       "      <td>63836.238889</td>\n",
       "    </tr>\n",
       "    <tr>\n",
       "      <th>2</th>\n",
       "      <td>2019-11-01</td>\n",
       "      <td>07P</td>\n",
       "      <td>60419.316667</td>\n",
       "    </tr>\n",
       "    <tr>\n",
       "      <th>3</th>\n",
       "      <td>2019-07-01</td>\n",
       "      <td>07P</td>\n",
       "      <td>64346.488889</td>\n",
       "    </tr>\n",
       "    <tr>\n",
       "      <th>4</th>\n",
       "      <td>2018-03-01</td>\n",
       "      <td>07P</td>\n",
       "      <td>60850.283333</td>\n",
       "    </tr>\n",
       "  </tbody>\n",
       "</table>\n",
       "</div>"
      ],
      "text/plain": [
       "       month  pct    total_gaba\n",
       "0 2020-04-01  07P  59784.327778\n",
       "1 2020-03-01  07P  63836.238889\n",
       "2 2019-11-01  07P  60419.316667\n",
       "3 2019-07-01  07P  64346.488889\n",
       "4 2018-03-01  07P  60850.283333"
      ]
     },
     "execution_count": 11,
     "metadata": {},
     "output_type": "execute_result"
    }
   ],
   "source": [
    "sql1 = '''\n",
    "SELECT\n",
    "  month,\n",
    "  pct_id,\n",
    "  sum(numerator) as total_gaba,\n",
    "FROM\n",
    "  `ebmdatalab.measures.ccg_data_gabapentinoidsddd` AS p\n",
    "GROUP BY\n",
    "month,\n",
    "pct_id\n",
    "'''\n",
    "\n",
    "df_gaba = bq.cached_read(sql1, csv_path=os.path.join('..', 'data', 'df_gaba.csv'))\n",
    "df_gaba['month'] = pd.to_datetime(df_gaba['month'])\n",
    "df_gaba.rename(columns={'pct_id':'pct'}, inplace=True) ##prep for maps library whe  pct must be colum name\n",
    "df_gaba.head(5)\n",
    "\n",
    "\n"
   ]
  },
  {
   "cell_type": "code",
   "execution_count": 12,
   "metadata": {},
   "outputs": [
    {
     "data": {
      "text/plain": [
       "(0, 30000000)"
      ]
     },
     "execution_count": 12,
     "metadata": {},
     "output_type": "execute_result"
    },
    {
     "data": {
      "image/png": "[encoded data removed]",
      "text/plain": [
       "<Figure size 432x288 with 1 Axes>"
      ]
     },
     "metadata": {
      "needs_background": "light"
     },
     "output_type": "display_data"
    }
   ],
   "source": [
    "ax = df_gaba.groupby([\"month\"])['total_gaba'].sum().plot(kind='line', title=\"Total Gabapentinoids DDD\")\n",
    "ax.axvline(pd.to_datetime('2019-04-01'), color='black', linestyle='--', lw=2) ##law change\n",
    "plt.ylim(0, 30000000 )"
   ]
  },
  {
   "cell_type": "markdown",
   "metadata": {},
   "source": [
    "# Tramadol <a id='tramadol'></a>"
   ]
  },
  {
   "cell_type": "markdown",
   "metadata": {},
   "source": [
    "In June 2014 tramdol was reclassified as a schedule 3 CD and the [ONS reported 5% drop in tramadol prescribing](https://www.ons.gov.uk/peoplepopulationandcommunity/birthsdeathsandmarriages/deaths/bulletins/deathsrelatedtodrugpoisoninginenglandandwales/2015registrations) as well as the first fall in deaths related to tramadol since the first recorded death. The [Royal Pharmaceutical Society have a brefing here](https://www.rpharms.com/about-us/news/details/Rescheduling-of-gabapentin-and-pregabalin-to-Schedule-3-Controlled-Drugs-from-1-April-2019). OpenPrescribing item data goes back to 2011 but raw prescribing information only goes back to January 2014. We will do a two step analysis\n",
    "1. Assess overall change in items and cost (indicative of qty) \n",
    "\n",
    "2. a) Work our total amounts of mg of tramadol dispensed in raw data for six months prior to the change. <br />\n",
    "    b) Work out tablet quantities for the 50mg and 100mg"
   ]
  },
  {
   "cell_type": "code",
   "execution_count": 4,
   "metadata": {},
   "outputs": [
    {
     "data": {
      "text/html": [
       "<div>\n",
       "<style scoped>\n",
       "    .dataframe tbody tr th:only-of-type {\n",
       "        vertical-align: middle;\n",
       "    }\n",
       "\n",
       "    .dataframe tbody tr th {\n",
       "        vertical-align: top;\n",
       "    }\n",
       "\n",
       "    .dataframe thead th {\n",
       "        text-align: right;\n",
       "    }\n",
       "</style>\n",
       "<table border=\"1\" class=\"dataframe\">\n",
       "  <thead>\n",
       "    <tr style=\"text-align: right;\">\n",
       "      <th></th>\n",
       "      <th>month</th>\n",
       "      <th>bnf_name</th>\n",
       "      <th>bnf_code</th>\n",
       "      <th>total_items</th>\n",
       "      <th>total_cost</th>\n",
       "    </tr>\n",
       "  </thead>\n",
       "  <tbody>\n",
       "    <tr>\n",
       "      <th>0</th>\n",
       "      <td>2010-08-01 00:00:00+00:00</td>\n",
       "      <td>Tramacet_Tab 37.5mg/325mg</td>\n",
       "      <td>040702040BFAAAU</td>\n",
       "      <td>6741</td>\n",
       "      <td>93751.57</td>\n",
       "    </tr>\n",
       "    <tr>\n",
       "      <th>1</th>\n",
       "      <td>2010-08-01 00:00:00+00:00</td>\n",
       "      <td>Tramulief SR_Tab 150mg</td>\n",
       "      <td>040702040BKABAD</td>\n",
       "      <td>11</td>\n",
       "      <td>141.20</td>\n",
       "    </tr>\n",
       "    <tr>\n",
       "      <th>2</th>\n",
       "      <td>2010-08-01 00:00:00+00:00</td>\n",
       "      <td>Tramadol HCl_Orodisper Tab 50mg</td>\n",
       "      <td>040702040AAATAT</td>\n",
       "      <td>775</td>\n",
       "      <td>7404.95</td>\n",
       "    </tr>\n",
       "    <tr>\n",
       "      <th>3</th>\n",
       "      <td>2010-08-01 00:00:00+00:00</td>\n",
       "      <td>Tramadol/Paracet_Tab Eff 37.5/325mg S/F</td>\n",
       "      <td>040702040AABABA</td>\n",
       "      <td>171</td>\n",
       "      <td>1881.57</td>\n",
       "    </tr>\n",
       "    <tr>\n",
       "      <th>4</th>\n",
       "      <td>2010-08-01 00:00:00+00:00</td>\n",
       "      <td>Dromadol SR_Tab 100mg</td>\n",
       "      <td>040702040BEABAC</td>\n",
       "      <td>20</td>\n",
       "      <td>251.99</td>\n",
       "    </tr>\n",
       "  </tbody>\n",
       "</table>\n",
       "</div>"
      ],
      "text/plain": [
       "                      month                                 bnf_name  \\\n",
       "0 2010-08-01 00:00:00+00:00                Tramacet_Tab 37.5mg/325mg   \n",
       "1 2010-08-01 00:00:00+00:00                   Tramulief SR_Tab 150mg   \n",
       "2 2010-08-01 00:00:00+00:00          Tramadol HCl_Orodisper Tab 50mg   \n",
       "3 2010-08-01 00:00:00+00:00  Tramadol/Paracet_Tab Eff 37.5/325mg S/F   \n",
       "4 2010-08-01 00:00:00+00:00                    Dromadol SR_Tab 100mg   \n",
       "\n",
       "          bnf_code  total_items  total_cost  \n",
       "0  040702040BFAAAU         6741    93751.57  \n",
       "1  040702040BKABAD           11      141.20  \n",
       "2  040702040AAATAT          775     7404.95  \n",
       "3  040702040AABABA          171     1881.57  \n",
       "4  040702040BEABAC           20      251.99  "
      ]
     },
     "execution_count": 4,
     "metadata": {},
     "output_type": "execute_result"
    }
   ],
   "source": [
    "sql2 = '''\n",
    "SELECT\n",
    "  month,\n",
    "  bnf_name,\n",
    "  bnf_code,\n",
    "  SUM(items) AS total_items,\n",
    "  SUM(actual_cost) AS total_cost\n",
    "FROM\n",
    "  ebmdatalab.hscic.normalised_prescribing AS rx\n",
    "WHERE\n",
    " bnf_code LIKE '040702040%'\n",
    "GROUP BY\n",
    "  month,\n",
    "  bnf_name,\n",
    "  bnf_code\n",
    "ORDER BY\n",
    "  month\n",
    "'''\n",
    "\n",
    "df_tramadol = bq.cached_read(sql2, csv_path=os.path.join('..', 'data', 'df_tramadol.csv'))\n",
    "df_tramadol['month'] = pd.to_datetime(df_tramadol['month'])\n",
    "df_tramadol.head(5)"
   ]
  },
  {
   "cell_type": "code",
   "execution_count": 5,
   "metadata": {},
   "outputs": [
    {
     "data": {
      "text/plain": [
       "(0, 800000)"
      ]
     },
     "execution_count": 5,
     "metadata": {},
     "output_type": "execute_result"
    },
    {
     "data": {
      "image/png": "[encoded data removed]",
      "text/plain": [
       "<Figure size 432x288 with 1 Axes>"
      ]
     },
     "metadata": {
      "needs_background": "light"
     },
     "output_type": "display_data"
    }
   ],
   "source": [
    "ax = df_tramadol.groupby([\"month\"])['total_items'].sum().plot(kind='line', title=\"Total number of items for Tramadol\")\n",
    "ax.axvline(pd.to_datetime('2014-06-01'), color='black', linestyle='--', lw=2) ##law change\n",
    "plt.ylim(0, 800000)"
   ]
  },
  {
   "cell_type": "code",
   "execution_count": 9,
   "metadata": {},
   "outputs": [
    {
     "data": {
      "text/plain": [
       "(0, 4597263.389132996)"
      ]
     },
     "execution_count": 9,
     "metadata": {},
     "output_type": "execute_result"
    },
    {
     "data": {
      "image/png": "[encoded data removed]",
      "text/plain": [
       "<Figure size 432x288 with 1 Axes>"
      ]
     },
     "metadata": {
      "needs_background": "light"
     },
     "output_type": "display_data"
    }
   ],
   "source": [
    "ax = df_tramadol.groupby([\"month\"])['total_cost'].sum().plot(kind='line', title=\"Total cost(£)  for Tramadol\")\n",
    "ax.axvline(pd.to_datetime('2014-06-01'), color='black', linestyle='--', lw=2) ##law change\n",
    "plt.ylim(0, )"
   ]
  },
  {
   "cell_type": "code",
   "execution_count": 7,
   "metadata": {},
   "outputs": [
    {
     "data": {
      "text/html": [
       "<div>\n",
       "<style scoped>\n",
       "    .dataframe tbody tr th:only-of-type {\n",
       "        vertical-align: middle;\n",
       "    }\n",
       "\n",
       "    .dataframe tbody tr th {\n",
       "        vertical-align: top;\n",
       "    }\n",
       "\n",
       "    .dataframe thead th {\n",
       "        text-align: right;\n",
       "    }\n",
       "</style>\n",
       "<table border=\"1\" class=\"dataframe\">\n",
       "  <thead>\n",
       "    <tr style=\"text-align: right;\">\n",
       "      <th></th>\n",
       "      <th>month</th>\n",
       "      <th>bnf_name</th>\n",
       "      <th>bnf_code</th>\n",
       "      <th>tramadol_mg</th>\n",
       "    </tr>\n",
       "  </thead>\n",
       "  <tbody>\n",
       "    <tr>\n",
       "      <th>0</th>\n",
       "      <td>2010-08-01 00:00:00+00:00</td>\n",
       "      <td>Tramadol HCl_Cap 200mg M/R</td>\n",
       "      <td>040702040AAAJAJ</td>\n",
       "      <td>0.0</td>\n",
       "    </tr>\n",
       "    <tr>\n",
       "      <th>1</th>\n",
       "      <td>2010-08-01 00:00:00+00:00</td>\n",
       "      <td>Zydol XL_Tab 300mg</td>\n",
       "      <td>040702040BBAIAM</td>\n",
       "      <td>0.0</td>\n",
       "    </tr>\n",
       "    <tr>\n",
       "      <th>2</th>\n",
       "      <td>2010-08-01 00:00:00+00:00</td>\n",
       "      <td>Larapam SR_Tab 200mg</td>\n",
       "      <td>040702040BGACAJ</td>\n",
       "      <td>0.0</td>\n",
       "    </tr>\n",
       "    <tr>\n",
       "      <th>3</th>\n",
       "      <td>2010-08-01 00:00:00+00:00</td>\n",
       "      <td>Tramadol HCl_Orodisper Tab 50mg</td>\n",
       "      <td>040702040AAATAT</td>\n",
       "      <td>3447000.0</td>\n",
       "    </tr>\n",
       "    <tr>\n",
       "      <th>4</th>\n",
       "      <td>2010-08-01 00:00:00+00:00</td>\n",
       "      <td>Tradorec XL_Tab 200mg</td>\n",
       "      <td>040702040BIABAE</td>\n",
       "      <td>0.0</td>\n",
       "    </tr>\n",
       "  </tbody>\n",
       "</table>\n",
       "</div>"
      ],
      "text/plain": [
       "                      month                         bnf_name         bnf_code  \\\n",
       "0 2010-08-01 00:00:00+00:00       Tramadol HCl_Cap 200mg M/R  040702040AAAJAJ   \n",
       "1 2010-08-01 00:00:00+00:00               Zydol XL_Tab 300mg  040702040BBAIAM   \n",
       "2 2010-08-01 00:00:00+00:00             Larapam SR_Tab 200mg  040702040BGACAJ   \n",
       "3 2010-08-01 00:00:00+00:00  Tramadol HCl_Orodisper Tab 50mg  040702040AAATAT   \n",
       "4 2010-08-01 00:00:00+00:00            Tradorec XL_Tab 200mg  040702040BIABAE   \n",
       "\n",
       "   tramadol_mg  \n",
       "0          0.0  \n",
       "1          0.0  \n",
       "2          0.0  \n",
       "3    3447000.0  \n",
       "4          0.0  "
      ]
     },
     "execution_count": 7,
     "metadata": {},
     "output_type": "execute_result"
    }
   ],
   "source": [
    "#for prototype I'll just take a look at 50mg caps\n",
    "sql3 = '''\n",
    "SELECT\n",
    "  month,\n",
    "  bnf_name,\n",
    "  bnf_code,\n",
    "SUM(CASE\n",
    "      WHEN SUBSTR(bnf_code,14,2)='AA' THEN quantity * 50 #Tramadol 50mg capsules\n",
    "      WHEN SUBSTR(bnf_code,14,2)='AT' THEN quantity * 50 #Tramadol 50mg orodispersible tablets sugar free\n",
    "      WHEN SUBSTR(bnf_code,14,2)='AG' THEN quantity * 50 #Tramadol 50mg modified-release capsules\n",
    "      WHEN SUBSTR(bnf_code,14,2)='AY' THEN quantity * 50 #Tramadol 50mg modified-release tablets\n",
    "      WHEN SUBSTR(bnf_code,14,2)='AF' THEN quantity * 50 #Tramadol 50mg soluble tablets sugar free\n",
    "      ELSE 0 END) AS tramadol_mg\n",
    "FROM\n",
    "  ebmdatalab.hscic.normalised_prescribing\n",
    "WHERE\n",
    " bnf_code LIKE '040702040%'\n",
    "GROUP BY\n",
    "  month,\n",
    "  bnf_name,\n",
    "  bnf_code\n",
    "ORDER BY\n",
    "  month\n",
    "'''\n",
    "\n",
    "df_raw_tramadol = bq.cached_read(sql3, csv_path=os.path.join('..', 'data', 'df_tramadol_raw.csv'))\n",
    "df_raw_tramadol['month'] = pd.to_datetime(df_raw_tramadol['month'])\n",
    "df_raw_tramadol.head(5)"
   ]
  },
  {
   "cell_type": "code",
   "execution_count": 8,
   "metadata": {},
   "outputs": [
    {
     "data": {
      "text/plain": [
       "(0, 3500000000)"
      ]
     },
     "execution_count": 8,
     "metadata": {},
     "output_type": "execute_result"
    },
    {
     "data": {
      "image/png": "[encoded data removed]",
      "text/plain": [
       "<Figure size 432x288 with 1 Axes>"
      ]
     },
     "metadata": {
      "needs_background": "light"
     },
     "output_type": "display_data"
    }
   ],
   "source": [
    "ax = df_raw_tramadol.groupby([\"month\"])['tramadol_mg'].sum().plot(kind='line', title=\"Total number of mg for Tramadol 50mg caps\")\n",
    "ax.axvline(pd.to_datetime('2014-06-01'), color='black', linestyle='--', lw=2) ##law change\n",
    "plt.ylim(0, 3500000000 )"
   ]
  },
  {
   "cell_type": "markdown",
   "metadata": {},
   "source": [
    "# Z-Drugs <a id='zdrugs'></a>"
   ]
  },
  {
   "cell_type": "markdown",
   "metadata": {},
   "source": [
    "Here the change is about reducing the amount on prescription at any one time. WE should look at decreases as well as a measure of 28/30 day scripts.\n",
    "\n",
    "•\thttps://www.rpharms.com/about-us/news/details/Controlled-drug-changes--tramadol--lisdexamfetamine--zopiclone-and-zaleplon\n",
    "\n"
   ]
  },
  {
   "cell_type": "markdown",
   "metadata": {},
   "source": [
    "# Overall Summary <a id='summ'></a>"
   ]
  }
 ],
 "metadata": {
  "jupytext": {
   "cell_metadata_filter": "all",
   "notebook_metadata_filter": "all,-language_info",
   "text_representation": {
    "extension": ".py",
    "format_name": "light",
    "format_version": "1.5",
    "jupytext_version": "1.3.3"
   }
  },
  "kernelspec": {
   "display_name": "Python 3",
   "language": "python",
   "name": "python3"
  },
  "language_info": {
   "codemirror_mode": {
    "name": "ipython",
    "version": 3
   },
   "file_extension": ".py",
   "mimetype": "text/x-python",
   "name": "python",
   "nbconvert_exporter": "python",
   "pygments_lexer": "ipython3",
   "version": "3.8.1"
  }
 },
 "nbformat": 4,
 "nbformat_minor": 4
}
